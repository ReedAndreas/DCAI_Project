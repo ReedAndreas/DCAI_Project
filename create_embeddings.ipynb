{
 "cells": [
  {
   "cell_type": "code",
   "execution_count": 23,
   "metadata": {},
   "outputs": [],
   "source": [
    "import re\n",
    "import torch\n",
    "import numpy as np\n",
    "import pandas as pd\n",
    "from torch_geometric.data import Data"
   ]
  },
  {
   "cell_type": "code",
   "execution_count": 24,
   "metadata": {},
   "outputs": [],
   "source": [
    "# read in txt file with extra info\n",
    "# construct adjacency list\n",
    "datapath = \"scripts/parcel_neighbors.txt\"\n",
    "features = pd.read_csv(datapath, delimiter=\"\\t\", header=None)\n",
    "features.columns = ['parcel', 'network', 'neighbors']"
   ]
  },
  {
   "cell_type": "code",
   "execution_count": 25,
   "metadata": {},
   "outputs": [],
   "source": [
    "def interpret_neighbors(neighbors):\n",
    "    temp = neighbors.split(\" \")\n",
    "    temp = [int(el) for el in temp if el != '']\n",
    "    return temp\n",
    "\n",
    "# formatting the list of neighboring regions\n",
    "features['neighbors'] = features['neighbors'].apply(lambda x: interpret_neighbors(x))"
   ]
  },
  {
   "cell_type": "code",
   "execution_count": 26,
   "metadata": {},
   "outputs": [],
   "source": [
    "# creating an edge list \n",
    "edge_col = []\n",
    "for i,row in features.iterrows():\n",
    "    neighbors = row['neighbors']\n",
    "    edge_list = [[i+1, el] for el in neighbors]\n",
    "\n",
    "    # converting to a tensor\n",
    "    edge_tensor = torch.tensor(edge_list, dtype=torch.long).t().contiguous()\n",
    "    edge_col.append(edge_tensor)\n",
    "edge_col = pd.Series(edge_col)\n",
    "features['edgeList_embeddings'] = edge_col\n",
    "# features = pd.concat([features, edge_col], axis=1)"
   ]
  },
  {
   "cell_type": "code",
   "execution_count": 27,
   "metadata": {},
   "outputs": [],
   "source": [
    "seven_networks = {\n",
    "    'Vis':         0,\n",
    "    'SomMot':      1,\n",
    "    'DorsAttn':    2,\n",
    "    'SalVentAttn': 3,\n",
    "    'Limbic':      4,\n",
    "    'Cont':        5,\n",
    "    'Default':     6,\n",
    "\n",
    "}\n",
    "\n",
    "split_network_info = features['network'].apply(lambda x: x.split(\"_\"))\n",
    "network_embedding_col = []\n",
    "for net in split_network_info:\n",
    "    network_embedding = torch.zeros(8)\n",
    "    net_idx = seven_networks[net[2]]\n",
    "    network_embedding[net_idx] = 1\n",
    "    if net[1] == 'LH':\n",
    "        network_embedding[7] = 1\n",
    "    network_embedding_col.append(network_embedding)\n",
    "network_embedding_col = pd.Series(network_embedding_col)\n",
    "features['network_embeddings'] = network_embedding_col\n",
    "# features"
   ]
  },
  {
   "cell_type": "code",
   "execution_count": 43,
   "metadata": {},
   "outputs": [
    {
     "ename": "IndexError",
     "evalue": "Dimension out of range (expected to be in range of [-2, 1], but got 2)",
     "output_type": "error",
     "traceback": [
      "\u001b[0;31m---------------------------------------------------------------------------\u001b[0m",
      "\u001b[0;31mIndexError\u001b[0m                                Traceback (most recent call last)",
      "Cell \u001b[0;32mIn[43], line 8\u001b[0m\n\u001b[1;32m      5\u001b[0m \u001b[38;5;66;03m# network_embeddings_repeated = network_embeddings.unsqueeze(1).repeat(1, edge_embeddings.shape[1], 1)\u001b[39;00m\n\u001b[1;32m      6\u001b[0m network_embeddings_repeated \u001b[38;5;241m=\u001b[39m network_embeddings\u001b[38;5;241m.\u001b[39munsqueeze(\u001b[38;5;241m1\u001b[39m)\u001b[38;5;241m.\u001b[39mrepeat(\u001b[38;5;241m1\u001b[39m, edge_embeddings\u001b[38;5;241m.\u001b[39mshape[\u001b[38;5;241m1\u001b[39m], \u001b[38;5;241m1\u001b[39m)\n\u001b[0;32m----> 8\u001b[0m combined_embeddings \u001b[38;5;241m=\u001b[39m \u001b[43mtorch\u001b[49m\u001b[38;5;241;43m.\u001b[39;49m\u001b[43mcat\u001b[49m\u001b[43m(\u001b[49m\u001b[43m[\u001b[49m\u001b[43medge_embeddings\u001b[49m\u001b[43m,\u001b[49m\u001b[43m \u001b[49m\u001b[43mnetwork_embeddings_repeated\u001b[49m\u001b[43m]\u001b[49m\u001b[43m,\u001b[49m\u001b[43m \u001b[49m\u001b[43mdim\u001b[49m\u001b[38;5;241;43m=\u001b[39;49m\u001b[38;5;241;43m2\u001b[39;49m\u001b[43m)\u001b[49m\n",
      "\u001b[0;31mIndexError\u001b[0m: Dimension out of range (expected to be in range of [-2, 1], but got 2)"
     ]
    }
   ],
   "source": [
    "test = features.iloc[0,:]\n",
    "edge_embeddings = test['edgeList_embeddings'] \n",
    "network_embeddings = test['network_embeddings']\n",
    "\n",
    "# network_embeddings_repeated = network_embeddings.unsqueeze(1).repeat(1, edge_embeddings.shape[1], 1)\n",
    "network_embeddings_repeated = network_embeddings.unsqueeze(1).repeat(1, edge_embeddings.shape[1], 1)\n",
    "\n",
    "combined_embeddings = torch.cat([edge_embeddings, network_embeddings_repeated], dim=2)\n"
   ]
  },
  {
   "cell_type": "code",
   "execution_count": null,
   "metadata": {},
   "outputs": [
    {
     "ename": "RuntimeError",
     "evalue": "Sizes of tensors must match except in dimension 1. Expected size 2 but got size 8 for tensor number 1 in the list.",
     "output_type": "error",
     "traceback": [
      "\u001b[0;31m---------------------------------------------------------------------------\u001b[0m",
      "\u001b[0;31mRuntimeError\u001b[0m                              Traceback (most recent call last)",
      "Cell \u001b[0;32mIn[42], line 8\u001b[0m\n\u001b[1;32m      6\u001b[0m test[\u001b[38;5;124m'\u001b[39m\u001b[38;5;124mnetwork_embeddings\u001b[39m\u001b[38;5;124m'\u001b[39m]\n\u001b[1;32m      7\u001b[0m \u001b[38;5;66;03m# test['edgeList_embeddings'].shape[1]\u001b[39;00m\n\u001b[0;32m----> 8\u001b[0m \u001b[43mtorch\u001b[49m\u001b[38;5;241;43m.\u001b[39;49m\u001b[43mcat\u001b[49m\u001b[43m(\u001b[49m\u001b[43m[\u001b[49m\u001b[43mtest\u001b[49m\u001b[43m[\u001b[49m\u001b[38;5;124;43m'\u001b[39;49m\u001b[38;5;124;43medgeList_embeddings\u001b[39;49m\u001b[38;5;124;43m'\u001b[39;49m\u001b[43m]\u001b[49m\u001b[43m,\u001b[49m\u001b[43m \u001b[49m\u001b[43mtest\u001b[49m\u001b[43m[\u001b[49m\u001b[38;5;124;43m'\u001b[39;49m\u001b[38;5;124;43mnetwork_embeddings\u001b[39;49m\u001b[38;5;124;43m'\u001b[39;49m\u001b[43m]\u001b[49m\u001b[38;5;241;43m.\u001b[39;49m\u001b[43munsqueeze\u001b[49m\u001b[43m(\u001b[49m\u001b[38;5;241;43m1\u001b[39;49m\u001b[43m)\u001b[49m\u001b[43m]\u001b[49m\u001b[43m,\u001b[49m\u001b[43m \u001b[49m\u001b[43mdim\u001b[49m\u001b[38;5;241;43m=\u001b[39;49m\u001b[38;5;241;43m1\u001b[39;49m\u001b[43m)\u001b[49m\n",
      "\u001b[0;31mRuntimeError\u001b[0m: Sizes of tensors must match except in dimension 1. Expected size 2 but got size 8 for tensor number 1 in the list."
     ]
    }
   ],
   "source": [
    "\n",
    "ntwrk = test['network_embeddings'].unsqueeze(1)\n",
    "ntwrk = ntwrk.expand(-1, 7)\n",
    "\n",
    "\n",
    "test['network_embeddings']\n",
    "# test['edgeList_embeddings'].shape[1]\n",
    "torch.cat([test['edgeList_embeddings'], test['network_embeddings'].unsqueeze(1)], dim=1)"
   ]
  },
  {
   "cell_type": "code",
   "execution_count": 32,
   "metadata": {},
   "outputs": [
    {
     "data": {
      "text/plain": [
       "tensor([[  1,   1,   1,   1,   1,   1,   1],\n",
       "        [  2,   3,   4,   7,  69, 123, 126]])"
      ]
     },
     "execution_count": 32,
     "metadata": {},
     "output_type": "execute_result"
    }
   ],
   "source": [
    "test['edgeList_embeddings']"
   ]
  },
  {
   "cell_type": "code",
   "execution_count": 40,
   "metadata": {},
   "outputs": [
    {
     "data": {
      "text/plain": [
       "<function Tensor.repeat>"
      ]
     },
     "execution_count": 40,
     "metadata": {},
     "output_type": "execute_result"
    }
   ],
   "source": [
    "test['network_embeddings'].repeat"
   ]
  },
  {
   "cell_type": "code",
   "execution_count": null,
   "metadata": {},
   "outputs": [],
   "source": []
  }
 ],
 "metadata": {
  "kernelspec": {
   "display_name": "base",
   "language": "python",
   "name": "python3"
  },
  "language_info": {
   "codemirror_mode": {
    "name": "ipython",
    "version": 3
   },
   "file_extension": ".py",
   "mimetype": "text/x-python",
   "name": "python",
   "nbconvert_exporter": "python",
   "pygments_lexer": "ipython3",
   "version": "3.9.4"
  }
 },
 "nbformat": 4,
 "nbformat_minor": 2
}
