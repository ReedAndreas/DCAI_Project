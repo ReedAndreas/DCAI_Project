{
 "cells": [
  {
   "cell_type": "code",
   "execution_count": 7,
   "metadata": {},
   "outputs": [],
   "source": [
    "import re\n",
    "import torch\n",
    "import numpy as np\n",
    "import pandas as pd\n",
    "from torch_geometric.data import Data"
   ]
  },
  {
   "cell_type": "code",
   "execution_count": 8,
   "metadata": {},
   "outputs": [],
   "source": [
    "# read in txt file with extra info\n",
    "# construct adjacency list\n",
    "datapath = \"scripts/parcel_neighbors.txt\"\n",
    "features = pd.read_csv(datapath, delimiter=\"\\t\", header=None)\n",
    "features.columns = ['parcel', 'network', 'neighbors']"
   ]
  },
  {
   "cell_type": "code",
   "execution_count": 9,
   "metadata": {},
   "outputs": [],
   "source": [
    "def interpret_neighbors(neighbors):\n",
    "    temp = neighbors.split(\" \")\n",
    "    temp = [int(el) for el in temp if el != '']\n",
    "    return temp\n",
    "\n",
    "# formatting the list of neighboring regions\n",
    "features['neighbors'] = features['neighbors'].apply(lambda x: interpret_neighbors(x))"
   ]
  },
  {
   "cell_type": "code",
   "execution_count": 10,
   "metadata": {},
   "outputs": [],
   "source": [
    "# creating an edge list \n",
    "edge_col = []\n",
    "for i,row in features.iterrows():\n",
    "    neighbors = row['neighbors']\n",
    "    edge_list = [[i+1, el] for el in neighbors]\n",
    "\n",
    "    # converting to a tensor\n",
    "    edge_tensor = torch.tensor(edge_list, dtype=torch.long).t().contiguous()\n",
    "    edge_col.append(edge_tensor)\n",
    "edge_col = pd.Series(edge_col)\n",
    "features['edgeList_embeddings'] = edge_col\n",
    "# features = pd.concat([features, edge_col], axis=1)"
   ]
  },
  {
   "cell_type": "code",
   "execution_count": 11,
   "metadata": {},
   "outputs": [],
   "source": [
    "seven_networks = {\n",
    "    'Vis':         0,\n",
    "    'SomMot':      1,\n",
    "    'DorsAttn':    2,\n",
    "    'SalVentAttn': 3,\n",
    "    'Limbic':      4,\n",
    "    'Cont':        5,\n",
    "    'Default':     6,\n",
    "\n",
    "}\n",
    "\n",
    "split_network_info = features['network'].apply(lambda x: x.split(\"_\"))\n",
    "network_embedding_col = []\n",
    "for net in split_network_info:\n",
    "    network_embedding = torch.zeros(8)\n",
    "    net_idx = seven_networks[net[2]]\n",
    "    network_embedding[net_idx] = 1\n",
    "    if net[1] == 'LH':\n",
    "        network_embedding[7] = 1\n",
    "    network_embedding_col.append(network_embedding)\n",
    "network_embedding_col = pd.Series(network_embedding_col)\n",
    "features['network_embeddings'] = network_embedding_col\n",
    "# features"
   ]
  },
  {
   "cell_type": "code",
   "execution_count": 12,
   "metadata": {},
   "outputs": [
    {
     "data": {
      "text/html": [
       "<div>\n",
       "<style scoped>\n",
       "    .dataframe tbody tr th:only-of-type {\n",
       "        vertical-align: middle;\n",
       "    }\n",
       "\n",
       "    .dataframe tbody tr th {\n",
       "        vertical-align: top;\n",
       "    }\n",
       "\n",
       "    .dataframe thead th {\n",
       "        text-align: right;\n",
       "    }\n",
       "</style>\n",
       "<table border=\"1\" class=\"dataframe\">\n",
       "  <thead>\n",
       "    <tr style=\"text-align: right;\">\n",
       "      <th></th>\n",
       "      <th>parcel</th>\n",
       "      <th>network</th>\n",
       "      <th>neighbors</th>\n",
       "      <th>edgeList_embeddings</th>\n",
       "      <th>network_embeddings</th>\n",
       "    </tr>\n",
       "  </thead>\n",
       "  <tbody>\n",
       "    <tr>\n",
       "      <th>0</th>\n",
       "      <td>1</td>\n",
       "      <td>7Networks_LH_Vis_1</td>\n",
       "      <td>[2, 3, 4, 7, 69, 123, 126]</td>\n",
       "      <td>[[tensor(1), tensor(1), tensor(1), tensor(1), ...</td>\n",
       "      <td>[tensor(1.), tensor(0.), tensor(0.), tensor(0....</td>\n",
       "    </tr>\n",
       "    <tr>\n",
       "      <th>1</th>\n",
       "      <td>2</td>\n",
       "      <td>7Networks_LH_Vis_2</td>\n",
       "      <td>[1, 4, 7, 69, 121, 123, 126]</td>\n",
       "      <td>[[tensor(2), tensor(2), tensor(2), tensor(2), ...</td>\n",
       "      <td>[tensor(1.), tensor(0.), tensor(0.), tensor(0....</td>\n",
       "    </tr>\n",
       "    <tr>\n",
       "      <th>2</th>\n",
       "      <td>3</td>\n",
       "      <td>7Networks_LH_Vis_3</td>\n",
       "      <td>[1, 4, 5, 6, 8, 69, 70]</td>\n",
       "      <td>[[tensor(3), tensor(3), tensor(3), tensor(3), ...</td>\n",
       "      <td>[tensor(1.), tensor(0.), tensor(0.), tensor(0....</td>\n",
       "    </tr>\n",
       "    <tr>\n",
       "      <th>3</th>\n",
       "      <td>4</td>\n",
       "      <td>7Networks_LH_Vis_4</td>\n",
       "      <td>[1, 2, 3, 5, 7, 10, 13, 16]</td>\n",
       "      <td>[[tensor(4), tensor(4), tensor(4), tensor(4), ...</td>\n",
       "      <td>[tensor(1.), tensor(0.), tensor(0.), tensor(0....</td>\n",
       "    </tr>\n",
       "    <tr>\n",
       "      <th>4</th>\n",
       "      <td>5</td>\n",
       "      <td>7Networks_LH_Vis_5</td>\n",
       "      <td>[3, 4, 6, 8, 9, 10, 11, 18]</td>\n",
       "      <td>[[tensor(5), tensor(5), tensor(5), tensor(5), ...</td>\n",
       "      <td>[tensor(1.), tensor(0.), tensor(0.), tensor(0....</td>\n",
       "    </tr>\n",
       "    <tr>\n",
       "      <th>...</th>\n",
       "      <td>...</td>\n",
       "      <td>...</td>\n",
       "      <td>...</td>\n",
       "      <td>...</td>\n",
       "      <td>...</td>\n",
       "    </tr>\n",
       "    <tr>\n",
       "      <th>395</th>\n",
       "      <td>396</td>\n",
       "      <td>7Networks_RH_Default_pCunPCC_5</td>\n",
       "      <td>[192, 194, 195, 199, 200, 224, 225, 228, 356, ...</td>\n",
       "      <td>[[tensor(396), tensor(396), tensor(396), tenso...</td>\n",
       "      <td>[tensor(0.), tensor(0.), tensor(0.), tensor(0....</td>\n",
       "    </tr>\n",
       "    <tr>\n",
       "      <th>396</th>\n",
       "      <td>397</td>\n",
       "      <td>7Networks_RH_Default_pCunPCC_6</td>\n",
       "      <td>[147, 192, 196, 197, 198, 200, 260, 313, 316, ...</td>\n",
       "      <td>[[tensor(397), tensor(397), tensor(397), tenso...</td>\n",
       "      <td>[tensor(0.), tensor(0.), tensor(0.), tensor(0....</td>\n",
       "    </tr>\n",
       "    <tr>\n",
       "      <th>397</th>\n",
       "      <td>398</td>\n",
       "      <td>7Networks_RH_Default_pCunPCC_7</td>\n",
       "      <td>[49, 108, 109, 146, 147, 197, 198, 250, 254, 2...</td>\n",
       "      <td>[[tensor(398), tensor(398), tensor(398), tenso...</td>\n",
       "      <td>[tensor(0.), tensor(0.), tensor(0.), tensor(0....</td>\n",
       "    </tr>\n",
       "    <tr>\n",
       "      <th>398</th>\n",
       "      <td>399</td>\n",
       "      <td>7Networks_RH_Default_pCunPCC_8</td>\n",
       "      <td>[195, 200, 356, 357, 395, 396, 397, 400]</td>\n",
       "      <td>[[tensor(399), tensor(399), tensor(399), tenso...</td>\n",
       "      <td>[tensor(0.), tensor(0.), tensor(0.), tensor(0....</td>\n",
       "    </tr>\n",
       "    <tr>\n",
       "      <th>399</th>\n",
       "      <td>400</td>\n",
       "      <td>7Networks_RH_Default_pCunPCC_9</td>\n",
       "      <td>[112, 145, 195, 197, 200, 282, 285, 287, 313, ...</td>\n",
       "      <td>[[tensor(400), tensor(400), tensor(400), tenso...</td>\n",
       "      <td>[tensor(0.), tensor(0.), tensor(0.), tensor(0....</td>\n",
       "    </tr>\n",
       "  </tbody>\n",
       "</table>\n",
       "<p>400 rows × 5 columns</p>\n",
       "</div>"
      ],
      "text/plain": [
       "     parcel                         network  \\\n",
       "0         1              7Networks_LH_Vis_1   \n",
       "1         2              7Networks_LH_Vis_2   \n",
       "2         3              7Networks_LH_Vis_3   \n",
       "3         4              7Networks_LH_Vis_4   \n",
       "4         5              7Networks_LH_Vis_5   \n",
       "..      ...                             ...   \n",
       "395     396  7Networks_RH_Default_pCunPCC_5   \n",
       "396     397  7Networks_RH_Default_pCunPCC_6   \n",
       "397     398  7Networks_RH_Default_pCunPCC_7   \n",
       "398     399  7Networks_RH_Default_pCunPCC_8   \n",
       "399     400  7Networks_RH_Default_pCunPCC_9   \n",
       "\n",
       "                                             neighbors  \\\n",
       "0                           [2, 3, 4, 7, 69, 123, 126]   \n",
       "1                         [1, 4, 7, 69, 121, 123, 126]   \n",
       "2                              [1, 4, 5, 6, 8, 69, 70]   \n",
       "3                          [1, 2, 3, 5, 7, 10, 13, 16]   \n",
       "4                          [3, 4, 6, 8, 9, 10, 11, 18]   \n",
       "..                                                 ...   \n",
       "395  [192, 194, 195, 199, 200, 224, 225, 228, 356, ...   \n",
       "396  [147, 192, 196, 197, 198, 200, 260, 313, 316, ...   \n",
       "397  [49, 108, 109, 146, 147, 197, 198, 250, 254, 2...   \n",
       "398           [195, 200, 356, 357, 395, 396, 397, 400]   \n",
       "399  [112, 145, 195, 197, 200, 282, 285, 287, 313, ...   \n",
       "\n",
       "                                   edgeList_embeddings  \\\n",
       "0    [[tensor(1), tensor(1), tensor(1), tensor(1), ...   \n",
       "1    [[tensor(2), tensor(2), tensor(2), tensor(2), ...   \n",
       "2    [[tensor(3), tensor(3), tensor(3), tensor(3), ...   \n",
       "3    [[tensor(4), tensor(4), tensor(4), tensor(4), ...   \n",
       "4    [[tensor(5), tensor(5), tensor(5), tensor(5), ...   \n",
       "..                                                 ...   \n",
       "395  [[tensor(396), tensor(396), tensor(396), tenso...   \n",
       "396  [[tensor(397), tensor(397), tensor(397), tenso...   \n",
       "397  [[tensor(398), tensor(398), tensor(398), tenso...   \n",
       "398  [[tensor(399), tensor(399), tensor(399), tenso...   \n",
       "399  [[tensor(400), tensor(400), tensor(400), tenso...   \n",
       "\n",
       "                                    network_embeddings  \n",
       "0    [tensor(1.), tensor(0.), tensor(0.), tensor(0....  \n",
       "1    [tensor(1.), tensor(0.), tensor(0.), tensor(0....  \n",
       "2    [tensor(1.), tensor(0.), tensor(0.), tensor(0....  \n",
       "3    [tensor(1.), tensor(0.), tensor(0.), tensor(0....  \n",
       "4    [tensor(1.), tensor(0.), tensor(0.), tensor(0....  \n",
       "..                                                 ...  \n",
       "395  [tensor(0.), tensor(0.), tensor(0.), tensor(0....  \n",
       "396  [tensor(0.), tensor(0.), tensor(0.), tensor(0....  \n",
       "397  [tensor(0.), tensor(0.), tensor(0.), tensor(0....  \n",
       "398  [tensor(0.), tensor(0.), tensor(0.), tensor(0....  \n",
       "399  [tensor(0.), tensor(0.), tensor(0.), tensor(0....  \n",
       "\n",
       "[400 rows x 5 columns]"
      ]
     },
     "execution_count": 12,
     "metadata": {},
     "output_type": "execute_result"
    }
   ],
   "source": [
    "features"
   ]
  },
  {
   "cell_type": "code",
   "execution_count": null,
   "metadata": {},
   "outputs": [
    {
     "ename": "RuntimeError",
     "evalue": "Tensors must have same number of dimensions: got 2 and 1",
     "output_type": "error",
     "traceback": [
      "\u001b[0;31m---------------------------------------------------------------------------\u001b[0m",
      "\u001b[0;31mRuntimeError\u001b[0m                              Traceback (most recent call last)",
      "Cell \u001b[0;32mIn[22], line 2\u001b[0m\n\u001b[1;32m      1\u001b[0m test \u001b[38;5;241m=\u001b[39m features\u001b[38;5;241m.\u001b[39miloc[\u001b[38;5;241m0\u001b[39m,:]\n\u001b[0;32m----> 2\u001b[0m \u001b[43mtorch\u001b[49m\u001b[38;5;241;43m.\u001b[39;49m\u001b[43mcat\u001b[49m\u001b[43m(\u001b[49m\u001b[43m[\u001b[49m\u001b[43mtest\u001b[49m\u001b[43m[\u001b[49m\u001b[38;5;124;43m'\u001b[39;49m\u001b[38;5;124;43medgeList_embeddings\u001b[39;49m\u001b[38;5;124;43m'\u001b[39;49m\u001b[43m]\u001b[49m\u001b[43m,\u001b[49m\u001b[43m \u001b[49m\u001b[43mtest\u001b[49m\u001b[43m[\u001b[49m\u001b[38;5;124;43m'\u001b[39;49m\u001b[38;5;124;43mnetwork_embeddings\u001b[39;49m\u001b[38;5;124;43m'\u001b[39;49m\u001b[43m]\u001b[49m\u001b[43m]\u001b[49m\u001b[43m,\u001b[49m\u001b[43m \u001b[49m\u001b[43mdim\u001b[49m\u001b[38;5;241;43m=\u001b[39;49m\u001b[38;5;241;43m0\u001b[39;49m\u001b[43m)\u001b[49m\n",
      "\u001b[0;31mRuntimeError\u001b[0m: Tensors must have same number of dimensions: got 2 and 1"
     ]
    }
   ],
   "source": [
    "test = features.iloc[0,:]\n",
    "torch.cat([test['edgeList_embeddings'], test['network_embeddings']])"
   ]
  },
  {
   "cell_type": "code",
   "execution_count": 19,
   "metadata": {},
   "outputs": [
    {
     "data": {
      "text/plain": [
       "tensor([[  1,   1,   1,   1,   1,   1,   1],\n",
       "        [  2,   3,   4,   7,  69, 123, 126]])"
      ]
     },
     "execution_count": 19,
     "metadata": {},
     "output_type": "execute_result"
    }
   ],
   "source": [
    "test['edgeList_embeddings']"
   ]
  },
  {
   "cell_type": "code",
   "execution_count": null,
   "metadata": {},
   "outputs": [],
   "source": []
  }
 ],
 "metadata": {
  "kernelspec": {
   "display_name": "base",
   "language": "python",
   "name": "python3"
  },
  "language_info": {
   "codemirror_mode": {
    "name": "ipython",
    "version": 3
   },
   "file_extension": ".py",
   "mimetype": "text/x-python",
   "name": "python",
   "nbconvert_exporter": "python",
   "pygments_lexer": "ipython3",
   "version": "3.9.4"
  }
 },
 "nbformat": 4,
 "nbformat_minor": 2
}
