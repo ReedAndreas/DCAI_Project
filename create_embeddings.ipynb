{
 "cells": [
  {
   "cell_type": "code",
   "execution_count": 15,
   "metadata": {},
   "outputs": [],
   "source": [
    "# import re\n",
    "import torch\n",
    "# import numpy as np\n",
    "import pandas as pd\n",
    "# from torch_geometric.data import Data"
   ]
  },
  {
   "cell_type": "code",
   "execution_count": 16,
   "metadata": {},
   "outputs": [],
   "source": [
    "# read in txt file with extra info\n",
    "# construct adjacency list\n",
    "datapath = \"scripts/parcel_neighbors.txt\"\n",
    "features = pd.read_csv(datapath, delimiter=\"\\t\", header=None)\n",
    "features.columns = ['parcel', 'network', 'neighbors']"
   ]
  },
  {
   "cell_type": "code",
   "execution_count": 17,
   "metadata": {},
   "outputs": [],
   "source": [
    "def interpret_neighbors(neighbors):\n",
    "    temp = neighbors.split(\" \")\n",
    "    temp = [int(el) for el in temp if el != '']\n",
    "    return temp\n",
    "\n",
    "# formatting the list of neighboring regions\n",
    "features['neighbors'] = features['neighbors'].apply(lambda x: interpret_neighbors(x))"
   ]
  },
  {
   "cell_type": "code",
   "execution_count": 18,
   "metadata": {},
   "outputs": [],
   "source": [
    "# creating an edge list \n",
    "edge_col = []\n",
    "for i,row in features.iterrows():\n",
    "    neighbors = row['neighbors']\n",
    "    edge_list = [[i+1, el] for el in neighbors]\n",
    "\n",
    "    # converting to a tensor\n",
    "    # edge_tensor = torch.tensor(edge_list, dtype=torch.long).t().contiguous()\n",
    "    edge_col.append(edge_list)\n",
    "edge_col = pd.Series(edge_col)\n",
    "features['edgeList_embeddings'] = edge_col\n",
    "# features = pd.concat([features, edge_col], axis=1)"
   ]
  },
  {
   "cell_type": "code",
   "execution_count": 19,
   "metadata": {},
   "outputs": [],
   "source": [
    "seven_networks = {\n",
    "    'Vis':         0,\n",
    "    'SomMot':      1,\n",
    "    'DorsAttn':    2,\n",
    "    'SalVentAttn': 3,\n",
    "    'Limbic':      4,\n",
    "    'Cont':        5,\n",
    "    'Default':     6,\n",
    "\n",
    "}\n",
    "\n",
    "split_network_info = features['network'].apply(lambda x: x.split(\"_\"))\n",
    "network_embedding_col = []\n",
    "for net in split_network_info:\n",
    "    # network_embedding = torch.zeros(8)\n",
    "    network_embedding = [0] * 8\n",
    "    net_idx = seven_networks[net[2]]\n",
    "    network_embedding[net_idx] = 1\n",
    "    if net[1] == 'LH':\n",
    "        network_embedding[7] = 1\n",
    "    network_embedding_col.append(network_embedding)\n",
    "network_embedding_col = pd.Series(network_embedding_col)\n",
    "features['network_embeddings'] = network_embedding_col\n",
    "# features"
   ]
  },
  {
   "cell_type": "code",
   "execution_count": 22,
   "metadata": {},
   "outputs": [],
   "source": [
    "features.to_csv(\"feature_embeddings.csv\")"
   ]
  },
  {
   "cell_type": "code",
   "execution_count": 67,
   "metadata": {},
   "outputs": [
    {
     "name": "stdout",
     "output_type": "stream",
     "text": [
      "tensor([[  1.,   1.,   1.,   1.,   1.,   1.,   1.,   1.,   0.,   0.,   0.,   0.,\n",
      "           0.,   0.,   1.],\n",
      "        [  2.,   3.,   4.,   7.,  69., 123., 126.,   1.,   0.,   0.,   0.,   0.,\n",
      "           0.,   0.,   1.]])\n"
     ]
    }
   ],
   "source": [
    "test1 = torch.cat([edge_embeddings, test], dim=1)\n",
    "print(test1)"
   ]
  },
  {
   "cell_type": "code",
   "execution_count": 28,
   "metadata": {},
   "outputs": [],
   "source": [
    "test = features.iloc[0,:]\n",
    "edge_embeddings = test['edgeList_embeddings'] \n",
    "network_embeddings = test['network_embeddings']\n",
    "\n",
    "# network_embeddings_repeated = network_embeddings.unsqueeze(1).repeat(1, edge_embeddings.shape[1], 1)\n",
    "# network_embeddings_repeated = network_embeddings.unsqueeze(1).repeat(1, edge_embeddings.shape[1], 1)\n",
    "\n",
    "# combined_embeddings = torch.cat([edge_embeddings, network_embeddings_repeated], dim=2)\n"
   ]
  },
  {
   "cell_type": "code",
   "execution_count": null,
   "metadata": {},
   "outputs": [],
   "source": []
  }
 ],
 "metadata": {
  "kernelspec": {
   "display_name": "base",
   "language": "python",
   "name": "python3"
  },
  "language_info": {
   "codemirror_mode": {
    "name": "ipython",
    "version": 3
   },
   "file_extension": ".py",
   "mimetype": "text/x-python",
   "name": "python",
   "nbconvert_exporter": "python",
   "pygments_lexer": "ipython3",
   "version": "3.9.4"
  }
 },
 "nbformat": 4,
 "nbformat_minor": 2
}
