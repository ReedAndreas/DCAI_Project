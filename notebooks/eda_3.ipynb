{
 "cells": [
  {
   "cell_type": "code",
   "execution_count": 9,
   "metadata": {},
   "outputs": [
    {
     "name": "stdout",
     "output_type": "stream",
     "text": [
      "Datasets in file: ['compressed_brains', 'labels']\n",
      "\n",
      "Attributes in file: {'original_shape': array([ 91, 109,  91])}\n",
      "\n",
      "Compressed data shape: (1001, 64, 12, 14, 12)\n",
      "Compressed data statistics:\n",
      "  Mean: 0.28898832\n",
      "  Std: 0.72441727\n",
      "  Min: 0.0\n",
      "  Max: 17.701\n"
     ]
    }
   ],
   "source": [
    "import h5py\n",
    "import numpy as np\n",
    "\n",
    "# Load the h5 file\n",
    "with h5py.File('../brain_data_1000_compressed.h5', 'r') as f:\n",
    "    # Print all datasets and attributes in the file\n",
    "    print(\"Datasets in file:\", list(f.keys()))\n",
    "    print(\"\\nAttributes in file:\", dict(f.attrs))\n",
    "    \n",
    "    # Load and examine compressed brain data\n",
    "    compressed_data = f['compressed_brains'][:]\n",
    "    print(\"\\nCompressed data shape:\", compressed_data.shape)\n",
    "    print(\"Compressed data statistics:\")\n",
    "    print(\"  Mean:\", np.mean(compressed_data))\n",
    "    print(\"  Std:\", np.std(compressed_data)) \n",
    "    print(\"  Min:\", np.min(compressed_data))\n",
    "    print(\"  Max:\", np.max(compressed_data))\n"
   ]
  },
  {
   "cell_type": "code",
   "execution_count": null,
   "metadata": {},
   "outputs": [],
   "source": []
  }
 ],
 "metadata": {
  "kernelspec": {
   "display_name": "venv2",
   "language": "python",
   "name": "python3"
  },
  "language_info": {
   "codemirror_mode": {
    "name": "ipython",
    "version": 3
   },
   "file_extension": ".py",
   "mimetype": "text/x-python",
   "name": "python",
   "nbconvert_exporter": "python",
   "pygments_lexer": "ipython3",
   "version": "3.12.6"
  }
 },
 "nbformat": 4,
 "nbformat_minor": 2
}
