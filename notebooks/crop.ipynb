{
 "cells": [
  {
   "cell_type": "code",
   "execution_count": 8,
   "metadata": {},
   "outputs": [],
   "source": [
    "import numpy as np\n",
    "import pandas as pd\n",
    "import pickle\n",
    "\n",
    "\n",
    "# load in the brain data\n",
    "with open('../spoof_data/new_brains.pickle', 'rb') as f:\n",
    "    brains = pickle.load(f)"
   ]
  },
  {
   "cell_type": "code",
   "execution_count": 73,
   "metadata": {},
   "outputs": [],
   "source": [
    "from monai.transforms import (\n",
    "    Compose,\n",
    "    EnsureChannelFirst,\n",
    "    ScaleIntensity,\n",
    "    CropForeground,\n",
    "    SpatialPad,\n",
    "    ToTensor\n",
    ")\n",
    "\n",
    "transform = Compose([\n",
    "    EnsureChannelFirst(channel_dim=\"no_channel\"),  # Change from None to \"no_channel\" for 3D data\n",
    "    ScaleIntensity(),\n",
    "    CropForeground(select_fn=lambda x: x > 0.1),\n",
    "    SpatialPad(spatial_size=(70, 70, 70)),\n",
    "    ToTensor()\n",
    "])"
   ]
  },
  {
   "cell_type": "code",
   "execution_count": 74,
   "metadata": {},
   "outputs": [
    {
     "name": "stdout",
     "output_type": "stream",
     "text": [
      "Processing brain 0, shape: (91, 109, 91)\n"
     ]
    }
   ],
   "source": [
    "# Let's also add some error checking\n",
    "cropped_brains = []\n",
    "for i, brain in enumerate(brains):\n",
    "    try:\n",
    "        print(f\"Processing brain {i}, shape: {brain.shape}\")  # Debug info\n",
    "        cropped_brain = transform(brain)\n",
    "        cropped_brains.append(cropped_brain)\n",
    "        break\n",
    "    except Exception as e:\n",
    "        print(f\"Error processing brain {i}: {e}\")\n",
    "        print(f\"Brain shape: {brain.shape}, dtype: {brain.dtype}\")\n",
    "        break"
   ]
  },
  {
   "cell_type": "code",
   "execution_count": 75,
   "metadata": {},
   "outputs": [],
   "source": [
    "cropped_brains = np.array(cropped_brains)"
   ]
  },
  {
   "cell_type": "code",
   "execution_count": 76,
   "metadata": {},
   "outputs": [
    {
     "data": {
      "text/plain": [
       "0.9663965014577259"
      ]
     },
     "execution_count": 76,
     "metadata": {},
     "output_type": "execute_result"
    }
   ],
   "source": [
    "# check the percent of the brain that is zero\n",
    "# do it for the first brain\n",
    "np.sum(cropped_brains[0] == 0) / cropped_brains[0].size"
   ]
  },
  {
   "cell_type": "code",
   "execution_count": 83,
   "metadata": {},
   "outputs": [
    {
     "data": {
      "text/plain": [
       "1.0"
      ]
     },
     "execution_count": 83,
     "metadata": {},
     "output_type": "execute_result"
    }
   ],
   "source": [
    "cropped_brains[0].max()"
   ]
  },
  {
   "cell_type": "code",
   "execution_count": 77,
   "metadata": {},
   "outputs": [
    {
     "data": {
      "text/plain": [
       "(1, 1, 70, 70, 70)"
      ]
     },
     "execution_count": 77,
     "metadata": {},
     "output_type": "execute_result"
    }
   ],
   "source": [
    "cropped_brains.shape"
   ]
  },
  {
   "cell_type": "code",
   "execution_count": 78,
   "metadata": {},
   "outputs": [
    {
     "name": "stdout",
     "output_type": "stream",
     "text": [
      "Type of result: <class 'tuple'>\n",
      "Result structure: (metatensor([[[[0., 0., 0.,  ..., 0., 0., 0.],\n",
      "          [0., 0., 0.,  ..., 0., 0., 0.],\n",
      "          [0., 0., 0.,  ..., 0., 0., 0.],\n",
      "          ...,\n",
      "          [0., 0., 0.,  ..., 0., 0., 0.],\n",
      "          [0., 0., 0.,  ..., 0., 0., 0.],\n",
      "          [0., 0., 0.,  ..., 0., 0., 0.]],\n",
      "\n",
      "         [[0., 0., 0.,  ..., 0., 0., 0.],\n",
      "          [0., 0., 0.,  ..., 0., 0., 0.],\n",
      "          [0., 0., 0.,  ..., 0., 0., 0.],\n",
      "          ...,\n",
      "          [0., 0., 0.,  ..., 0., 0., 0.],\n",
      "          [0., 0., 0.,  ..., 0., 0., 0.],\n",
      "          [0., 0., 0.,  ..., 0., 0., 0.]],\n",
      "\n",
      "         [[0., 0., 0.,  ..., 0., 0., 0.],\n",
      "          [0., 0., 0.,  ..., 0., 0., 0.],\n",
      "          [0., 0., 0.,  ..., 0., 0., 0.],\n",
      "          ...,\n",
      "          [0., 0., 0.,  ..., 0., 0., 0.],\n",
      "          [0., 0., 0.,  ..., 0., 0., 0.],\n",
      "          [0., 0., 0.,  ..., 0., 0., 0.]],\n",
      "\n",
      "         ...,\n",
      "\n",
      "         [[0., 0., 0.,  ..., 0., 0., 0.],\n",
      "          [0., 0., 0.,  ..., 0., 0., 0.],\n",
      "          [0., 0., 0.,  ..., 0., 0., 0.],\n",
      "          ...,\n",
      "          [0., 0., 0.,  ..., 0., 0., 0.],\n",
      "          [0., 0., 0.,  ..., 0., 0., 0.],\n",
      "          [0., 0., 0.,  ..., 0., 0., 0.]],\n",
      "\n",
      "         [[0., 0., 0.,  ..., 0., 0., 0.],\n",
      "          [0., 0., 0.,  ..., 0., 0., 0.],\n",
      "          [0., 0., 0.,  ..., 0., 0., 0.],\n",
      "          ...,\n",
      "          [0., 0., 0.,  ..., 0., 0., 0.],\n",
      "          [0., 0., 0.,  ..., 0., 0., 0.],\n",
      "          [0., 0., 0.,  ..., 0., 0., 0.]],\n",
      "\n",
      "         [[0., 0., 0.,  ..., 0., 0., 0.],\n",
      "          [0., 0., 0.,  ..., 0., 0., 0.],\n",
      "          [0., 0., 0.,  ..., 0., 0., 0.],\n",
      "          ...,\n",
      "          [0., 0., 0.,  ..., 0., 0., 0.],\n",
      "          [0., 0., 0.,  ..., 0., 0., 0.],\n",
      "          [0., 0., 0.,  ..., 0., 0., 0.]]]]), array([11, 16, 31]), array([80, 71, 77]))\n"
     ]
    }
   ],
   "source": [
    "# Debug step by step\n",
    "brain = brains[0]\n",
    "brain_channel = EnsureChannelFirst(channel_dim=\"no_channel\")(brain)\n",
    "brain_scaled = ScaleIntensity()(brain_channel)\n",
    "\n",
    "# Try getting the result directly first\n",
    "result = CropForeground(\n",
    "    select_fn=lambda x: x > 0,\n",
    "    margin=0,\n",
    "    return_coords=True\n",
    ")(brain_scaled)\n",
    "\n",
    "# Print what we get back\n",
    "print(\"Type of result:\", type(result))\n",
    "print(\"Result structure:\", result)"
   ]
  },
  {
   "cell_type": "code",
   "execution_count": 79,
   "metadata": {},
   "outputs": [
    {
     "name": "stdout",
     "output_type": "stream",
     "text": [
      "Start coordinates: [11 16 31]\n",
      "End coordinates: [80 71 77]\n",
      "Cropped shape: torch.Size([1, 69, 55, 46])\n",
      "Min non-zero value: 0.032741193\n",
      "Max value: 1.0\n"
     ]
    }
   ],
   "source": [
    "# Try with a higher threshold and check coordinates\n",
    "result = CropForeground(\n",
    "    select_fn=lambda x: x > 0.2,  # Further increased threshold\n",
    "    margin=0,  # No margin to see the raw crop\n",
    "    return_coords=True\n",
    ")(brain_scaled)\n",
    "\n",
    "cropped_data, start_coord, end_coord = result\n",
    "print(\"Start coordinates:\", start_coord)\n",
    "print(\"End coordinates:\", end_coord)\n",
    "print(\"Cropped shape:\", cropped_data.shape)\n",
    "\n",
    "# Check the value distribution\n",
    "unique_vals = np.unique(brain_scaled.numpy())\n",
    "print(\"Min non-zero value:\", np.min(unique_vals[unique_vals > 0]))\n",
    "print(\"Max value:\", np.max(unique_vals))"
   ]
  },
  {
   "cell_type": "code",
   "execution_count": 85,
   "metadata": {},
   "outputs": [
    {
     "name": "stdout",
     "output_type": "stream",
     "text": [
      "(91, 109, 91)\n",
      "3473.316112788602\n"
     ]
    }
   ],
   "source": [
    "import scipy.io\n",
    "\n",
    "# load data.mat \n",
    "data = scipy.io.loadmat('data.mat')\n",
    "\n",
    "brains[0] = data['new_brain']\n",
    "\n",
    "print(brains[0].shape)\n",
    "print(brains[0].max())"
   ]
  },
  {
   "cell_type": "code",
   "execution_count": 81,
   "metadata": {},
   "outputs": [
    {
     "data": {
      "image/png": "[encoded data removed]",
      "text/plain": [
       "<Figure size 1500x300 with 5 Axes>"
      ]
     },
     "metadata": {},
     "output_type": "display_data"
    }
   ],
   "source": [
    "import matplotlib.pyplot as plt\n",
    "\n",
    "# Function to visualize slices\n",
    "def visualize_slices(data, num_slices=5):\n",
    "    fig, axes = plt.subplots(1, num_slices, figsize=(15, 3))\n",
    "    slice_indices = np.linspace(0, data.shape[2] - 1, num_slices, dtype=int)\n",
    "    \n",
    "    for i, ax in enumerate(axes):\n",
    "        ax.imshow(data[:, :, slice_indices[i]], cmap='gray')\n",
    "        ax.set_title(f'Slice {slice_indices[i]}')\n",
    "        ax.axis('off')\n",
    "    \n",
    "    plt.show()\n",
    "\n",
    "# Visualize slices of the first brain\n",
    "brain = brains[0]\n",
    "visualize_slices(brain)"
   ]
  },
  {
   "cell_type": "code",
   "execution_count": null,
   "metadata": {},
   "outputs": [],
   "source": []
  }
 ],
 "metadata": {
  "kernelspec": {
   "display_name": "venv2",
   "language": "python",
   "name": "python3"
  },
  "language_info": {
   "codemirror_mode": {
    "name": "ipython",
    "version": 3
   },
   "file_extension": ".py",
   "mimetype": "text/x-python",
   "name": "python",
   "nbconvert_exporter": "python",
   "pygments_lexer": "ipython3",
   "version": "3.12.6"
  }
 },
 "nbformat": 4,
 "nbformat_minor": 2
}
