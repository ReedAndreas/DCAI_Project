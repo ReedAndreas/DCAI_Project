{
 "cells": [
  {
   "cell_type": "code",
   "execution_count": 3,
   "metadata": {},
   "outputs": [],
   "source": [
    "import torch\n",
    "import torch.optim as optim\n",
    "import numpy as np\n",
    "import torch.nn as nn\n",
    "from torch.utils.data import TensorDataset, DataLoader"
   ]
  },
  {
   "cell_type": "code",
   "execution_count": null,
   "metadata": {},
   "outputs": [],
   "source": [
    "# import torch\n",
    "# import torch.nn as nn\n",
    "\n",
    "class MLP(nn.Module):\n",
    "    def __init__(self, input_dim, hidden_dim1, hidden_dim2, output_dim):\n",
    "        super(MLP, self).__init__()\n",
    "        self.model = nn.Sequential(\n",
    "            nn.Linear(input_dim, hidden_dim1),\n",
    "            nn.ReLU(),\n",
    "            nn.Linear(hidden_dim1, hidden_dim2),\n",
    "            nn.ReLU(),\n",
    "            nn.Linear(hidden_dim2, output_dim)\n",
    "        )\n",
    "\n",
    "    def forward(self, x):\n",
    "        return self.model(x)"
   ]
  },
  {
   "cell_type": "code",
   "execution_count": null,
   "metadata": {},
   "outputs": [],
   "source": [
    "# Load embeddings (shape: [n_samples, embedding_dim])\n",
    "embeddings = torch.load('../clean_embeddings.pt')\n",
    "\n",
    "# Placeholder for labels (modify this according to your task)\n",
    "# Assume that y contains your labels\n",
    "labels = torch.load('../clean_labels.pt').long()\n",
    "\n",
    "# Convert to PyTorch tensors\n",
    "# embeddings_tensor = torch.tensor(embeddings, dtype=torch.float32)\n",
    "# labels_tensor = torch.tensor(labels, dtype=torch.long)  # Change to the appropriate dtype for regression tasks\n",
    "\n",
    "# Create dataset and dataloader\n",
    "dataset = TensorDataset(embeddings, labels)\n",
    "dataloader = DataLoader(dataset, batch_size=32, shuffle=True)\n"
   ]
  },
  {
   "cell_type": "code",
   "execution_count": null,
   "metadata": {},
   "outputs": [],
   "source": [
    "# Define the MLP configuration\n",
    "embedding_dim = embeddings.shape[1]\n",
    "hidden_dim1 = 256\n",
    "hidden_dim2 = 256\n",
    "output_dim = 180  # Change this accordingly for regression tasks\n",
    "\n",
    "mlp_model = MLP(embedding_dim, hidden_dim1, hidden_dim2, output_dim)\n",
    "criterion = nn.CrossEntropyLoss()  # Use MSELoss or other appropriate loss for regression\n",
    "optimizer = optim.Adam(mlp_model.parameters(), lr=1e-3)\n",
    "\n",
    "# Training loop\n",
    "num_epochs = 20\n",
    "\n",
    "mlp_model.train()\n",
    "for epoch in range(num_epochs):\n",
    "    running_loss = 0.0\n",
    "    for i, (embeddings_batch, labels_batch) in enumerate(dataloader):\n",
    "        embeddings_batch, labels_batch = embeddings_batch.to(device), labels_batch.to(device)\n",
    "        \n",
    "        # Zero the parameter gradients\n",
    "        optimizer.zero_grad()\n",
    "        \n",
    "        # Forward pass\n",
    "        outputs = mlp_model(embeddings_batch)\n",
    "        \n",
    "        # Compute loss\n",
    "        loss = criterion(outputs, labels_batch)\n",
    "        running_loss += loss.item()\n",
    "        \n",
    "        # Backward pass and optimization\n",
    "        loss.backward()\n",
    "        optimizer.step()\n",
    "\n",
    "    print(f\"Epoch {epoch+1}/{num_epochs}, Loss: {running_loss/len(dataloader)}\")\n",
    "\n",
    "print(\"Training complete.\")"
   ]
  }
 ],
 "metadata": {
  "kernelspec": {
   "display_name": "base",
   "language": "python",
   "name": "python3"
  },
  "language_info": {
   "codemirror_mode": {
    "name": "ipython",
    "version": 3
   },
   "file_extension": ".py",
   "mimetype": "text/x-python",
   "name": "python",
   "nbconvert_exporter": "python",
   "pygments_lexer": "ipython3",
   "version": "3.9.4"
  }
 },
 "nbformat": 4,
 "nbformat_minor": 2
}
