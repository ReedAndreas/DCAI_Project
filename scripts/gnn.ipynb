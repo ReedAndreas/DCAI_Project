{
 "cells": [
  {
   "cell_type": "code",
   "execution_count": null,
   "metadata": {},
   "outputs": [],
   "source": [
    "import ast\n",
    "import h5py\n",
    "import torch\n",
    "import numpy as np\n",
    "import pandas as pd\n",
    "import torch.nn as nn\n",
    "import torch.optim as optim\n",
    "import torch.nn.functional as F\n",
    "from torch_geometric.data import DataLoader, Data\n",
    "from torch_geometric.nn import GCNConv, MessagePassing"
   ]
  },
  {
   "cell_type": "code",
   "execution_count": null,
   "metadata": {},
   "outputs": [],
   "source": [
    "def convert_adjacency_to_tensors(edge_list):\n",
    "    return torch.tensor(edge_list, dtype=torch.long).t().contiguous()   "
   ]
  },
  {
   "cell_type": "code",
   "execution_count": null,
   "metadata": {},
   "outputs": [],
   "source": [
    "filepath = \"brain_data_all_labels.h5\"\n",
    "with h5py.File(filepath, 'r') as f:\n",
    "  data = np.array(f['brains'])\n",
    "  data[np.isnan(data)] = 0\n",
    "  inputs = torch.Tensor(np.array(f['brains']))\n",
    "  inputs = torch.nan_to_num(inputs, nan=0.0, posinf=0, neginf=0)\n",
    "  labels = torch.Tensor(np.array(f['labels']))\n",
    "\n",
    "features = pd.read_csv(\"feature_embeddings.csv\")"
   ]
  },
  {
   "cell_type": "code",
   "execution_count": null,
   "metadata": {},
   "outputs": [],
   "source": [
    "node_features = torch.Tensor(data.T)\n",
    "edge_list = features['edgeList_embeddings'].apply(lambda x: ast.literal_eval(x))\n",
    "max_length = max(len(lst) for lst in edge_list)\n",
    "\n",
    "padded_edge_embeddings = []\n",
    "for lst in edge_list:\n",
    "    extended = [[0,0]] * (max_length - len(lst))\n",
    "    if len(lst) != 19:\n",
    "        lst.extend(extended)\n",
    "    padded_edge_embeddings.append(lst)\n",
    "\n",
    "\n",
    "# edge_embeddings = edge_list.apply(lambda x: convert_adjacency_to_tensors(x))\n",
    "padded_edge_embeddings = torch.Tensor(padded_edge_embeddings).long() - 1\n",
    "\n",
    "network_embeddings = features['network_embeddings'].apply(lambda x: ast.literal_eval(x))\n",
    "network_embeddings = torch.Tensor(network_embeddings)\n"
   ]
  },
  {
   "cell_type": "code",
   "execution_count": null,
   "metadata": {},
   "outputs": [
    {
     "name": "stdout",
     "output_type": "stream",
     "text": [
      "<class 'torch.Tensor'> torch.Size([400, 20821]) <class 'torch.Tensor'>\n",
      "<class 'torch.Tensor'> torch.Size([400, 19, 2]) <class 'torch.Tensor'>\n",
      "<class 'torch.Tensor'> torch.Size([400, 8]) <class 'torch.Tensor'>\n",
      "<class 'torch.Tensor'> torch.Size([20821])\n"
     ]
    }
   ],
   "source": [
    "# Prepare the dataset\n",
    "data_list = []\n",
    "for i in range(20821):\n",
    "    x = node_features[:, i].unsqueeze(0)\n",
    "\n",
    "    edge_index = padded_edge_embeddings.view(-1, 2).t().contiguous().long()\n",
    "    edge_index = edge_index[:, edge_index[0] != -1]\n",
    "\n",
    "    network_features = network_embeddings\n",
    "    y = labels[i].long()\n",
    "    data = Data(x=x, edge_index=edge_index, network_features=network_features, y=y)\n",
    "    data_list.append(data)\n",
    "\n",
    "# Create a DataLoader\n",
    "loader = DataLoader(data_list, batch_size=1, shuffle=True)"
   ]
  },
  {
   "cell_type": "code",
   "execution_count": null,
   "metadata": {},
   "outputs": [
    {
     "name": "stderr",
     "output_type": "stream",
     "text": [
      "/Users/zacharykaras/base/lib/python3.9/site-packages/torch_geometric/deprecation.py:26: UserWarning: 'data.DataLoader' is deprecated, use 'loader.DataLoader' instead\n",
      "  warnings.warn(out)\n"
     ]
    }
   ],
   "source": [
    "class BrainGNN(nn.Module):\n",
    "    def __init__(self, input_dim, network_dim, edge_dim, hidden_dim1, hidden_dim2, hidden_dim3, output_dim):\n",
    "        super(BrainGNN, self).__init__()\n",
    "\n",
    "        # Helper function to create MLP with ReLU activations\n",
    "        def create_mlp(layers_dims, dropout=0.5):\n",
    "            layers = []\n",
    "            for i in range(len(layers_dims) - 1):\n",
    "                layers.append(nn.Linear(layers_dims[i], layers_dims[i+1]))\n",
    "                if i < len(layers_dims) - 2:  # No ReLU for the last layer\n",
    "                    layers.append(nn.ReLU())\n",
    "                    layers.append(nn.Dropout(p=dropout))\n",
    "            return nn.Sequential(*layers)\n",
    "\n",
    "        # Layers for node, network, and edge embeddings\n",
    "        self.node_mlp = create_mlp([input_dim, hidden_dim1, hidden_dim2, hidden_dim3])\n",
    "        self.network_mlp = create_mlp([network_dim, hidden_dim1, hidden_dim2, hidden_dim3])\n",
    "        self.edge_mlp = create_mlp([edge_dim, hidden_dim1, hidden_dim2, hidden_dim3])\n",
    "\n",
    "        # Graph message-passing layer\n",
    "        self.message_layer = nn.Sequential(\n",
    "            nn.Linear(2 * hidden_dim3, hidden_dim3),\n",
    "            nn.ReLU(),\n",
    "            nn.Dropout(p=0.5)\n",
    "        )\n",
    "\n",
    "        # Output layer\n",
    "        self.output_mlp = nn.Linear(hidden_dim3, output_dim)\n",
    "        \n",
    "        # Learnable weights for combining features\n",
    "        self.alpha = nn.Parameter(torch.ones(1))\n",
    "        self.beta = nn.Parameter(torch.ones(1))\n",
    "\n",
    "        self.apply(self._init_weights)\n",
    "\n",
    "    def _init_weights(self, module):\n",
    "        if isinstance(module, nn.Linear):\n",
    "            nn.init.xavier_uniform_(module.weight)\n",
    "            if module.bias is not None:\n",
    "                nn.init.constant_(module.bias, 0.01)\n",
    "\n",
    "    def forward(self, node_features, network_features, edge_index, return_embeddings=False):\n",
    "        # Step 1: Transform input features\n",
    "        h_node = self.node_mlp(node_features)\n",
    "        h_network = self.network_mlp(network_features)\n",
    "\n",
    "        # Step 2: Fuse global edge features (assuming the addition as a fusion mechanism)\n",
    "        h_fused = h_node + h_network\n",
    "\n",
    "        # Step 3: Message passing\n",
    "        row, col = edge_index\n",
    "        messages = h_fused[col]  # Gather features for neighbors\n",
    "        messages = torch.cat([h_fused[row], messages], dim=-1)  # Include edge info\n",
    "        h_messages = self.message_layer(messages)  # Aggregate messages\n",
    "\n",
    "        # Step 4: Update node embeddings\n",
    "        h_updated = self.alpha * h_node + self.beta * h_messages\n",
    "\n",
    "        # Step 5: Compute output\n",
    "        edge_outputs = self.output_mlp(h_updated)  # Final output\n",
    "        graph_output = edge_outputs.mean(dim=0)  # Aggregate edge outputs to two scalars\n",
    "\n",
    "        if return_embeddings:\n",
    "            return h_updated\n",
    "        return graph_output\n"
   ]
  },
  {
   "cell_type": "code",
   "execution_count": null,
   "metadata": {},
   "outputs": [],
   "source": [
    "# Parameters\n",
    "input_dim = 400        # Size of node features\n",
    "network_dim = 8        # Size of network features\n",
    "edge_dim = 19          # Size of edge embeddings\n",
    "hidden_dim1 = 256       # Size of hidden layer embeddings\n",
    "hidden_dim2 = 512\n",
    "hidden_dim3 = 128\n",
    "output_dim = 180         # Regression output or number of classes\n",
    "num_epochs = 3       # Number of training epochs\n",
    "batch_size = 1        # Batch size for DataLoader\n",
    "learning_rate = 1e-3   # Learning rate\n",
    "\n",
    "# Model, Loss, Optimizer\n",
    "device = torch.device(\"cuda\" if torch.cuda.is_available() else \"cpu\")\n",
    "model = BrainGNN(input_dim, network_dim, edge_dim, hidden_dim1, hidden_dim2, hidden_dim3, output_dim).to(device)\n",
    "criterion = nn.CrossEntropyLoss(label_smoothing=0.0)  # Use nn.CrossEntropyLoss() for classification tasks\n",
    "optimizer = optim.Adam(model.parameters(), lr=learning_rate)\n",
    "print(model)"
   ]
  },
  {
   "cell_type": "code",
   "execution_count": null,
   "metadata": {},
   "outputs": [
    {
     "ename": "KeyboardInterrupt",
     "evalue": "",
     "output_type": "error",
     "traceback": [
      "\u001b[0;31m---------------------------------------------------------------------------\u001b[0m",
      "\u001b[0;31mKeyboardInterrupt\u001b[0m                         Traceback (most recent call last)",
      "Cell \u001b[0;32mIn[99], line 57\u001b[0m\n\u001b[1;32m     54\u001b[0m predicted_class \u001b[38;5;241m=\u001b[39m torch\u001b[38;5;241m.\u001b[39margmax(prediction, dim\u001b[38;5;241m=\u001b[39m\u001b[38;5;241m0\u001b[39m)\n\u001b[1;32m     56\u001b[0m \u001b[38;5;66;03m# Backward pass and optimization\u001b[39;00m\n\u001b[0;32m---> 57\u001b[0m \u001b[43mloss\u001b[49m\u001b[38;5;241;43m.\u001b[39;49m\u001b[43mbackward\u001b[49m\u001b[43m(\u001b[49m\u001b[43m)\u001b[49m\n\u001b[1;32m     58\u001b[0m optimizer\u001b[38;5;241m.\u001b[39mstep()\n\u001b[1;32m     59\u001b[0m \u001b[38;5;66;03m# print(f\"Batch {batch_num}, Loss: {loss}, Output: {predicted_class}, Label: {target}\")\u001b[39;00m\n\u001b[1;32m     60\u001b[0m \u001b[38;5;66;03m# batch_num += 1\u001b[39;00m\n",
      "File \u001b[0;32m~/base/lib/python3.9/site-packages/torch/_tensor.py:522\u001b[0m, in \u001b[0;36mTensor.backward\u001b[0;34m(self, gradient, retain_graph, create_graph, inputs)\u001b[0m\n\u001b[1;32m    512\u001b[0m \u001b[38;5;28;01mif\u001b[39;00m has_torch_function_unary(\u001b[38;5;28mself\u001b[39m):\n\u001b[1;32m    513\u001b[0m     \u001b[38;5;28;01mreturn\u001b[39;00m handle_torch_function(\n\u001b[1;32m    514\u001b[0m         Tensor\u001b[38;5;241m.\u001b[39mbackward,\n\u001b[1;32m    515\u001b[0m         (\u001b[38;5;28mself\u001b[39m,),\n\u001b[0;32m   (...)\u001b[0m\n\u001b[1;32m    520\u001b[0m         inputs\u001b[38;5;241m=\u001b[39minputs,\n\u001b[1;32m    521\u001b[0m     )\n\u001b[0;32m--> 522\u001b[0m \u001b[43mtorch\u001b[49m\u001b[38;5;241;43m.\u001b[39;49m\u001b[43mautograd\u001b[49m\u001b[38;5;241;43m.\u001b[39;49m\u001b[43mbackward\u001b[49m\u001b[43m(\u001b[49m\n\u001b[1;32m    523\u001b[0m \u001b[43m    \u001b[49m\u001b[38;5;28;43mself\u001b[39;49m\u001b[43m,\u001b[49m\u001b[43m \u001b[49m\u001b[43mgradient\u001b[49m\u001b[43m,\u001b[49m\u001b[43m \u001b[49m\u001b[43mretain_graph\u001b[49m\u001b[43m,\u001b[49m\u001b[43m \u001b[49m\u001b[43mcreate_graph\u001b[49m\u001b[43m,\u001b[49m\u001b[43m \u001b[49m\u001b[43minputs\u001b[49m\u001b[38;5;241;43m=\u001b[39;49m\u001b[43minputs\u001b[49m\n\u001b[1;32m    524\u001b[0m \u001b[43m\u001b[49m\u001b[43m)\u001b[49m\n",
      "File \u001b[0;32m~/base/lib/python3.9/site-packages/torch/autograd/__init__.py:266\u001b[0m, in \u001b[0;36mbackward\u001b[0;34m(tensors, grad_tensors, retain_graph, create_graph, grad_variables, inputs)\u001b[0m\n\u001b[1;32m    261\u001b[0m     retain_graph \u001b[38;5;241m=\u001b[39m create_graph\n\u001b[1;32m    263\u001b[0m \u001b[38;5;66;03m# The reason we repeat the same comment below is that\u001b[39;00m\n\u001b[1;32m    264\u001b[0m \u001b[38;5;66;03m# some Python versions print out the first line of a multi-line function\u001b[39;00m\n\u001b[1;32m    265\u001b[0m \u001b[38;5;66;03m# calls in the traceback and some print out the last line\u001b[39;00m\n\u001b[0;32m--> 266\u001b[0m \u001b[43mVariable\u001b[49m\u001b[38;5;241;43m.\u001b[39;49m\u001b[43m_execution_engine\u001b[49m\u001b[38;5;241;43m.\u001b[39;49m\u001b[43mrun_backward\u001b[49m\u001b[43m(\u001b[49m\u001b[43m  \u001b[49m\u001b[38;5;66;43;03m# Calls into the C++ engine to run the backward pass\u001b[39;49;00m\n\u001b[1;32m    267\u001b[0m \u001b[43m    \u001b[49m\u001b[43mtensors\u001b[49m\u001b[43m,\u001b[49m\n\u001b[1;32m    268\u001b[0m \u001b[43m    \u001b[49m\u001b[43mgrad_tensors_\u001b[49m\u001b[43m,\u001b[49m\n\u001b[1;32m    269\u001b[0m \u001b[43m    \u001b[49m\u001b[43mretain_graph\u001b[49m\u001b[43m,\u001b[49m\n\u001b[1;32m    270\u001b[0m \u001b[43m    \u001b[49m\u001b[43mcreate_graph\u001b[49m\u001b[43m,\u001b[49m\n\u001b[1;32m    271\u001b[0m \u001b[43m    \u001b[49m\u001b[43minputs\u001b[49m\u001b[43m,\u001b[49m\n\u001b[1;32m    272\u001b[0m \u001b[43m    \u001b[49m\u001b[43mallow_unreachable\u001b[49m\u001b[38;5;241;43m=\u001b[39;49m\u001b[38;5;28;43;01mTrue\u001b[39;49;00m\u001b[43m,\u001b[49m\n\u001b[1;32m    273\u001b[0m \u001b[43m    \u001b[49m\u001b[43maccumulate_grad\u001b[49m\u001b[38;5;241;43m=\u001b[39;49m\u001b[38;5;28;43;01mTrue\u001b[39;49;00m\u001b[43m,\u001b[49m\n\u001b[1;32m    274\u001b[0m \u001b[43m\u001b[49m\u001b[43m)\u001b[49m\n",
      "\u001b[0;31mKeyboardInterrupt\u001b[0m: "
     ]
    }
   ],
   "source": [
    "collected_loss = []\n",
    "# Training Loop\n",
    "for epoch in range(num_epochs):\n",
    "    model.train()\n",
    "    epoch_loss = 0.0\n",
    "    # batch_num = 1\n",
    "    for batch in loader:\n",
    "        # Move data to device\n",
    "\n",
    "        node_features = batch.x.to(device)       # (N, input_dim)\n",
    "        network_features = batch.network_features.to(device) # (1, network_dim) or (N, network_dim)\n",
    "        edge_index = batch.edge_index.to(device)             # (2, E)\n",
    "        target = batch.y.to(device).long()-1           # (N, output_dim)\n",
    "\n",
    "        # Forward pass\n",
    "        optimizer.zero_grad()\n",
    "        prediction = model(node_features, network_features, edge_index)\n",
    "\n",
    "        loss = criterion(prediction.unsqueeze(0), target)\n",
    "        collected_loss.append(loss.item())\n",
    "        epoch_loss += loss.item()\n",
    "        predicted_class = torch.argmax(prediction, dim=0)\n",
    "\n",
    "        # Backward pass and optimization\n",
    "        loss.backward()\n",
    "        optimizer.step()\n",
    "\n",
    "    print(f\"Epoch {epoch + 1}/{num_epochs}, Loss: {epoch_loss:.4f}\")"
   ]
  },
  {
   "cell_type": "code",
   "execution_count": null,
   "metadata": {},
   "outputs": [],
   "source": [
    "torch.save(model.state_dict(), \"brain_gnn_model_3epochs_weighted_features.pth\")"
   ]
  },
  {
   "cell_type": "code",
   "execution_count": null,
   "metadata": {},
   "outputs": [
    {
     "data": {
      "text/plain": [
       "tensor([[-0.1179, -0.5957, -0.5841,  ..., -0.3794,  0.3671,  0.0172],\n",
       "        [-0.1179, -0.5957, -0.5841,  ..., -0.3794,  0.3671,  0.0172],\n",
       "        [-0.1179, -0.5957, -0.5841,  ..., -0.3794,  0.3671,  0.0172],\n",
       "        ...,\n",
       "        [ 0.3338, -0.3025, -0.5232,  ..., -0.0349, -0.1378,  0.5898],\n",
       "        [ 0.3338, -0.3025, -0.5232,  ..., -0.0349, -0.1378,  0.5898],\n",
       "        [ 0.3338, -0.3025, -0.5232,  ..., -0.0349, -0.1378,  0.5898]])"
      ]
     },
     "execution_count": 22,
     "metadata": {},
     "output_type": "execute_result"
    }
   ],
   "source": [
    "import pickle\n",
    "\n",
    "with open(\"collected_loss_3epochs_weighted_features.pkl\", \"wb\") as f:\n",
    "    pickle.dump(collected_loss, f)"
   ]
  },
  {
   "cell_type": "code",
   "execution_count": null,
   "metadata": {},
   "outputs": [],
   "source": [
    "import os\n",
    "# Create a directory to save embeddings\n",
    "os.makedirs('embeddings_3e_weighted', exist_ok=True)\n",
    "\n",
    "# Disable gradient calculation\n",
    "with torch.no_grad():\n",
    "    # embeddings = []\n",
    "    for i, batch in enumerate(loader):\n",
    "        node_features = batch.x.to(device)       # (N, input_dim)\n",
    "        network_features = batch.network_features.to(device) # (1, network_dim) or (N, network_dim)\n",
    "        edge_index = batch.edge_index.to(device)             # (2, E)\n",
    "        target = batch.y.to(device).long()-1\n",
    "\n",
    "        # Forward pass to get embeddings\n",
    "        h_updated = model(node_features, network_features, edge_index, return_embeddings=True)\n",
    "        # print(h_updated)\n",
    "        embeddings_cpu = h_updated.detach().cpu()\n",
    "        # embeddings.append(embeddings_cpu)\n",
    "\n",
    "        # Save each embedding to a separate file\n",
    "        embedding_path = os.path.join('embeddings_3e', f'embedding_number{i}_class{int(target[0])}.npy')\n",
    "        np.save(embedding_path, h_updated.cpu().numpy())\n",
    "        print(f\"Embedding {i} saved to {embedding_path}\")\n",
    "        # if i == 10:\n",
    "        #     break\n",
    "\n",
    "# all_embeddings = torch.cat(embeddings, dim=0)\n",
    "print(\"All embeddings have been saved.\")"
   ]
  }
 ],
 "metadata": {
  "kernelspec": {
   "display_name": "base",
   "language": "python",
   "name": "python3"
  },
  "language_info": {
   "codemirror_mode": {
    "name": "ipython",
    "version": 3
   },
   "file_extension": ".py",
   "mimetype": "text/x-python",
   "name": "python",
   "nbconvert_exporter": "python",
   "pygments_lexer": "ipython3",
   "version": "3.9.4"
  }
 },
 "nbformat": 4,
 "nbformat_minor": 2
}
