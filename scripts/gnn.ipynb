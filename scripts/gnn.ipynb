{
 "cells": [
  {
   "cell_type": "code",
   "execution_count": 86,
   "metadata": {},
   "outputs": [],
   "source": [
    "import ast\n",
    "import h5py\n",
    "import torch\n",
    "import numpy as np\n",
    "import pandas as pd\n",
    "import torch.nn as nn\n",
    "import torch.optim as optim\n",
    "import torch.nn.functional as F\n",
    "from torch_geometric.data import DataLoader, Data\n",
    "from torch_geometric.nn import GCNConv, MessagePassing"
   ]
  },
  {
   "cell_type": "code",
   "execution_count": 87,
   "metadata": {},
   "outputs": [],
   "source": [
    "def convert_adjacency_to_tensors(edge_list):\n",
    "    return torch.tensor(edge_list, dtype=torch.long).t().contiguous()    "
   ]
  },
  {
   "cell_type": "code",
   "execution_count": 88,
   "metadata": {},
   "outputs": [],
   "source": [
    "filepath = \"/Users/zacharykaras/Desktop/brain_data_all_labels.h5\"\n",
    "with h5py.File(filepath, 'r') as f:\n",
    "  # print(f.keys())\n",
    "  data = np.array(f['brains'])\n",
    "  data[np.isnan(data)] = 0\n",
    "  inputs = torch.Tensor(np.array(f['brains']))\n",
    "  inputs = torch.nan_to_num(inputs, nan=0.0, posinf=0, neginf=0)\n",
    "  labels = torch.Tensor(np.array(f['labels']))\n",
    "\n",
    "features = pd.read_csv(\"../feature_embeddings.csv\")"
   ]
  },
  {
   "cell_type": "code",
   "execution_count": 89,
   "metadata": {},
   "outputs": [],
   "source": [
    "\n",
    "node_features = torch.Tensor(data.T)\n",
    "edge_list = features['edgeList_embeddings'].apply(lambda x: ast.literal_eval(x))\n",
    "max_length = max(len(lst) for lst in edge_list)\n",
    "\n",
    "padded_edge_embeddings = []\n",
    "for lst in edge_list:\n",
    "    extended = [[0,0]] * (max_length - len(lst))\n",
    "    if len(lst) != 19:\n",
    "        lst.extend(extended)\n",
    "    padded_edge_embeddings.append(lst)\n",
    "\n",
    "\n",
    "# # # edge_embeddings = edge_list.apply(lambda x: convert_adjacency_to_tensors(x))\n",
    "padded_edge_embeddings = torch.Tensor(padded_edge_embeddings).long() - 1\n",
    "# edge_list = torch.Tensor(edge_list).long()\n",
    "# valid_edges_mask = (padded_edge_embeddings[0] != 0) & (padded_edge_embeddings[1] != 0)\n",
    "# edge_index = padded_edge_embeddings[:, valid_edges_mask]\n",
    "\n",
    "# print(edge_index.shape)  # Should be [2, num_valid_edges]\n",
    "# print(edge_index)\n",
    "\n",
    "network_embeddings = features['network_embeddings'].apply(lambda x: ast.literal_eval(x))\n",
    "# network_embeddings = network_embeddings.apply(lambda x: torch.Tensor(x))\n",
    "network_embeddings = torch.Tensor(network_embeddings)\n",
    "# # Combine node features with network embeddings\n",
    "# node_features_combined = torch.cat([node_features, network_embeddings], dim=1)  # Shape: [400, 20008]\n",
    "\n",
    "# # Create a PyG Data object\n",
    "# graph_data = Data(x=node_features_combined, edge_index=edge_index, edge_attr=edge_features)"
   ]
  },
  {
   "cell_type": "code",
   "execution_count": 90,
   "metadata": {},
   "outputs": [
    {
     "name": "stdout",
     "output_type": "stream",
     "text": [
      "<class 'torch.Tensor'> torch.Size([400, 20821]) <class 'torch.Tensor'>\n",
      "<class 'torch.Tensor'> torch.Size([400, 19, 2]) <class 'torch.Tensor'>\n",
      "<class 'torch.Tensor'> torch.Size([400, 8]) <class 'torch.Tensor'>\n",
      "<class 'torch.Tensor'> torch.Size([20821])\n"
     ]
    }
   ],
   "source": [
    "print(type(node_features), node_features.shape, type(node_features[0]))\n",
    "print(type(padded_edge_embeddings), padded_edge_embeddings.shape, type(padded_edge_embeddings[0]))\n",
    "print(type(network_embeddings), network_embeddings.shape, type(network_embeddings[0]))\n",
    "print(type(labels), labels.shape)"
   ]
  },
  {
   "cell_type": "code",
   "execution_count": 91,
   "metadata": {},
   "outputs": [
    {
     "name": "stderr",
     "output_type": "stream",
     "text": [
      "/Users/zacharykaras/base/lib/python3.9/site-packages/torch_geometric/deprecation.py:26: UserWarning: 'data.DataLoader' is deprecated, use 'loader.DataLoader' instead\n",
      "  warnings.warn(out)\n"
     ]
    }
   ],
   "source": [
    "# Assuming `brain_activation_values`, `network_info`, `adjacency_lists`, and `labels` are your data tensors\n",
    "# brain_activation_values = torch.randn(400, 20821)  # Example data\n",
    "# network_info = torch.randn(400, 8)  # Example data\n",
    "# adjacency_lists = torch.randint(0, 400, (400, 19, 2))  # Example data\n",
    "# labels = torch.randint(0, 2, (20821,))  # Example labels\n",
    "\n",
    "# Prepare the dataset\n",
    "data_list = []\n",
    "for i in range(20821):\n",
    "    x = node_features[:, i].unsqueeze(0)\n",
    "    # edge_index = padded_edge_embeddings\n",
    "    edge_index = padded_edge_embeddings.view(-1, 2).t().contiguous().long()\n",
    "    edge_index = edge_index[:, edge_index[0] != -1] \n",
    "    # edge_index = edge_list.view(-1, 2).t().contiguous().long()\n",
    "    network_features = network_embeddings\n",
    "    y = labels[i].long()\n",
    "    data = Data(x=x, edge_index=edge_index, network_features=network_features, y=y)\n",
    "    data_list.append(data)\n",
    "\n",
    "# Create a DataLoader\n",
    "loader = DataLoader(data_list, batch_size=1, shuffle=True)\n",
    "\n",
    "# # Instantiate the model, optimizer, and loss function\n",
    "# model = GNN(num_node_features=1, num_classes=2)\n",
    "# optimizer = torch.optim.Adam(model.parameters(), lr=0.01)\n",
    "# criterion = torch.nn.CrossEntropyLoss()"
   ]
  },
  {
   "cell_type": "code",
   "execution_count": 94,
   "metadata": {},
   "outputs": [],
   "source": [
    "class BrainGNN(nn.Module):\n",
    "    def __init__(self, input_dim, network_dim, edge_dim, hidden_dim, output_dim):\n",
    "        super(BrainGNN, self).__init__()\n",
    "        \n",
    "        # Layers for node, network, and edge embeddings\n",
    "        self.node_mlp = nn.Linear(input_dim, hidden_dim)\n",
    "        self.network_mlp = nn.Linear(network_dim, hidden_dim)\n",
    "        self.edge_mlp = nn.Linear(edge_dim, hidden_dim)\n",
    "        \n",
    "        # Graph message-passing layer\n",
    "        self.message_layer = nn.Linear(2 * hidden_dim, hidden_dim)\n",
    "        \n",
    "        # Output layer\n",
    "        self.output_mlp = nn.Linear(hidden_dim, output_dim)\n",
    "\n",
    "    # def forward(self, node_features, network_features, edge_features, edge_index):\n",
    "    def forward(self, node_features, network_features, edge_index, return_embeddings=False):\n",
    "        # Step 1: Transform input features\n",
    "        h_node = self.node_mlp(node_features)  # (N, hidden_dim)\n",
    "        h_network = self.network_mlp(network_features)  # (1, hidden_dim) or (N, hidden_dim)\n",
    "        # h_edge = self.edge_mlp(edge_features)  # (E, hidden_dim)\n",
    "        \n",
    "        # Step 2: Fuse global edge features\n",
    "        # h_edge_global = torch.mean(h_edge, dim=0, keepdim=True)  # Aggregate into global feature\n",
    "        # h_fused = h_node + h_network + h_edge_global  # Example fusion (addition)\n",
    "        h_fused = h_node + h_network  # Example fusion (addition)\n",
    "        # print(h_fused.shape, h_fused)\n",
    "        # Step 3: Message passing\n",
    "        # valid_edges = edge_index \n",
    "        row, col = edge_index\n",
    "        messages = h_fused[col]  # Gather features for neighbors\n",
    "        # print(messages.shape, messages)\n",
    "        # messages = torch.cat([h_fused[row], messages, h_edge[row]], dim=-1)  # Include edge info\n",
    "        messages = torch.cat([h_fused[row], messages], dim=-1)  # Include edge info\n",
    "        h_messages = self.message_layer(messages)  # Aggregate messages\n",
    "\n",
    "        # Step 4: Update node embeddings\n",
    "        h_updated = h_node + h_messages\n",
    "\n",
    "        # Step 5: Compute output\n",
    "        edge_outputs = self.output_mlp(h_updated)  # Final output\n",
    "        # print(edge_outputs.mean(dim=0))\n",
    "        graph_output = edge_outputs.mean(dim=0)  # Aggregate edge outputs to two scalars\n",
    "        # print(output.shape, output)\n",
    "        if return_embeddings:\n",
    "            return h_updated\n",
    "        return graph_output"
   ]
  },
  {
   "cell_type": "code",
   "execution_count": 99,
   "metadata": {},
   "outputs": [
    {
     "ename": "KeyboardInterrupt",
     "evalue": "",
     "output_type": "error",
     "traceback": [
      "\u001b[0;31m---------------------------------------------------------------------------\u001b[0m",
      "\u001b[0;31mKeyboardInterrupt\u001b[0m                         Traceback (most recent call last)",
      "Cell \u001b[0;32mIn[99], line 57\u001b[0m\n\u001b[1;32m     54\u001b[0m predicted_class \u001b[38;5;241m=\u001b[39m torch\u001b[38;5;241m.\u001b[39margmax(prediction, dim\u001b[38;5;241m=\u001b[39m\u001b[38;5;241m0\u001b[39m)\n\u001b[1;32m     56\u001b[0m \u001b[38;5;66;03m# Backward pass and optimization\u001b[39;00m\n\u001b[0;32m---> 57\u001b[0m \u001b[43mloss\u001b[49m\u001b[38;5;241;43m.\u001b[39;49m\u001b[43mbackward\u001b[49m\u001b[43m(\u001b[49m\u001b[43m)\u001b[49m\n\u001b[1;32m     58\u001b[0m optimizer\u001b[38;5;241m.\u001b[39mstep()\n\u001b[1;32m     59\u001b[0m \u001b[38;5;66;03m# print(f\"Batch {batch_num}, Loss: {loss}, Output: {predicted_class}, Label: {target}\")\u001b[39;00m\n\u001b[1;32m     60\u001b[0m \u001b[38;5;66;03m# batch_num += 1\u001b[39;00m\n",
      "File \u001b[0;32m~/base/lib/python3.9/site-packages/torch/_tensor.py:522\u001b[0m, in \u001b[0;36mTensor.backward\u001b[0;34m(self, gradient, retain_graph, create_graph, inputs)\u001b[0m\n\u001b[1;32m    512\u001b[0m \u001b[38;5;28;01mif\u001b[39;00m has_torch_function_unary(\u001b[38;5;28mself\u001b[39m):\n\u001b[1;32m    513\u001b[0m     \u001b[38;5;28;01mreturn\u001b[39;00m handle_torch_function(\n\u001b[1;32m    514\u001b[0m         Tensor\u001b[38;5;241m.\u001b[39mbackward,\n\u001b[1;32m    515\u001b[0m         (\u001b[38;5;28mself\u001b[39m,),\n\u001b[0;32m   (...)\u001b[0m\n\u001b[1;32m    520\u001b[0m         inputs\u001b[38;5;241m=\u001b[39minputs,\n\u001b[1;32m    521\u001b[0m     )\n\u001b[0;32m--> 522\u001b[0m \u001b[43mtorch\u001b[49m\u001b[38;5;241;43m.\u001b[39;49m\u001b[43mautograd\u001b[49m\u001b[38;5;241;43m.\u001b[39;49m\u001b[43mbackward\u001b[49m\u001b[43m(\u001b[49m\n\u001b[1;32m    523\u001b[0m \u001b[43m    \u001b[49m\u001b[38;5;28;43mself\u001b[39;49m\u001b[43m,\u001b[49m\u001b[43m \u001b[49m\u001b[43mgradient\u001b[49m\u001b[43m,\u001b[49m\u001b[43m \u001b[49m\u001b[43mretain_graph\u001b[49m\u001b[43m,\u001b[49m\u001b[43m \u001b[49m\u001b[43mcreate_graph\u001b[49m\u001b[43m,\u001b[49m\u001b[43m \u001b[49m\u001b[43minputs\u001b[49m\u001b[38;5;241;43m=\u001b[39;49m\u001b[43minputs\u001b[49m\n\u001b[1;32m    524\u001b[0m \u001b[43m\u001b[49m\u001b[43m)\u001b[49m\n",
      "File \u001b[0;32m~/base/lib/python3.9/site-packages/torch/autograd/__init__.py:266\u001b[0m, in \u001b[0;36mbackward\u001b[0;34m(tensors, grad_tensors, retain_graph, create_graph, grad_variables, inputs)\u001b[0m\n\u001b[1;32m    261\u001b[0m     retain_graph \u001b[38;5;241m=\u001b[39m create_graph\n\u001b[1;32m    263\u001b[0m \u001b[38;5;66;03m# The reason we repeat the same comment below is that\u001b[39;00m\n\u001b[1;32m    264\u001b[0m \u001b[38;5;66;03m# some Python versions print out the first line of a multi-line function\u001b[39;00m\n\u001b[1;32m    265\u001b[0m \u001b[38;5;66;03m# calls in the traceback and some print out the last line\u001b[39;00m\n\u001b[0;32m--> 266\u001b[0m \u001b[43mVariable\u001b[49m\u001b[38;5;241;43m.\u001b[39;49m\u001b[43m_execution_engine\u001b[49m\u001b[38;5;241;43m.\u001b[39;49m\u001b[43mrun_backward\u001b[49m\u001b[43m(\u001b[49m\u001b[43m  \u001b[49m\u001b[38;5;66;43;03m# Calls into the C++ engine to run the backward pass\u001b[39;49;00m\n\u001b[1;32m    267\u001b[0m \u001b[43m    \u001b[49m\u001b[43mtensors\u001b[49m\u001b[43m,\u001b[49m\n\u001b[1;32m    268\u001b[0m \u001b[43m    \u001b[49m\u001b[43mgrad_tensors_\u001b[49m\u001b[43m,\u001b[49m\n\u001b[1;32m    269\u001b[0m \u001b[43m    \u001b[49m\u001b[43mretain_graph\u001b[49m\u001b[43m,\u001b[49m\n\u001b[1;32m    270\u001b[0m \u001b[43m    \u001b[49m\u001b[43mcreate_graph\u001b[49m\u001b[43m,\u001b[49m\n\u001b[1;32m    271\u001b[0m \u001b[43m    \u001b[49m\u001b[43minputs\u001b[49m\u001b[43m,\u001b[49m\n\u001b[1;32m    272\u001b[0m \u001b[43m    \u001b[49m\u001b[43mallow_unreachable\u001b[49m\u001b[38;5;241;43m=\u001b[39;49m\u001b[38;5;28;43;01mTrue\u001b[39;49;00m\u001b[43m,\u001b[49m\n\u001b[1;32m    273\u001b[0m \u001b[43m    \u001b[49m\u001b[43maccumulate_grad\u001b[49m\u001b[38;5;241;43m=\u001b[39;49m\u001b[38;5;28;43;01mTrue\u001b[39;49;00m\u001b[43m,\u001b[49m\n\u001b[1;32m    274\u001b[0m \u001b[43m\u001b[49m\u001b[43m)\u001b[49m\n",
      "\u001b[0;31mKeyboardInterrupt\u001b[0m: "
     ]
    }
   ],
   "source": [
    "# Example Dataset and DataLoader (Assume you already have these)\n",
    "# - dataset: a collection of graphs where each graph contains `node_features`, `network_features`, `edge_features`, `edge_index`, and `targets`.\n",
    "# - DataLoader: batches these graphs for training.\n",
    "\n",
    "# Parameters\n",
    "input_dim = 400        # Size of node features\n",
    "network_dim = 8        # Size of network features\n",
    "edge_dim = 19          # Size of edge embeddings\n",
    "hidden_dim = 512       # Size of hidden layer embeddings\n",
    "output_dim = 180         # Regression output or number of classes\n",
    "num_epochs = 50        # Number of training epochs\n",
    "batch_size = 1        # Batch size for DataLoader\n",
    "learning_rate = 1e-3   # Learning rate\n",
    "\n",
    "# Model, Loss, Optimizer\n",
    "device = torch.device(\"cuda\" if torch.cuda.is_available() else \"cpu\")\n",
    "model = BrainGNN(input_dim, network_dim, edge_dim, hidden_dim, output_dim).to(device)\n",
    "criterion = nn.CrossEntropyLoss(label_smoothing=0.0)  # Use nn.CrossEntropyLoss() for classification tasks\n",
    "optimizer = optim.Adam(model.parameters(), lr=learning_rate)\n",
    "\n",
    "# # DataLoader (example)\n",
    "# train_loader = DataLoader(dataset, batch_size=batch_size, shuffle=True)\n",
    "# val_loader = DataLoader(dataset, batch_size=batch_size, shuffle=False)  # Validation set\n",
    "\n",
    "# Training Loop\n",
    "for epoch in range(num_epochs):\n",
    "    model.train()\n",
    "    epoch_loss = 0.0\n",
    "    # batch_num = 1\n",
    "    for batch in loader:\n",
    "        # Move data to device\n",
    "        # print(batch)\n",
    "        node_features = batch.x.to(device)       # (N, input_dim)\n",
    "        network_features = batch.network_features.to(device) # (1, network_dim) or (N, network_dim)\n",
    "        # edge_features = batch.edge_features.to(device)       # (E, edge_dim)\n",
    "        edge_index = batch.edge_index.to(device)             # (2, E)\n",
    "        target = batch.y.to(device).long()-1           # (N, output_dim)\n",
    "\n",
    "        # Forward pass\n",
    "        optimizer.zero_grad()\n",
    "        prediction = model(node_features, network_features, edge_index)\n",
    "        # print(target, prediction.shape)\n",
    "        # prediction = torch.argmax(output, dim=0)\n",
    "\n",
    "        # print(prediction, target)\n",
    "\n",
    "        # print(prediction.shape, target.shape)\n",
    "        # print(prediction, target)\n",
    "        # Calculate loss\n",
    "        # print(output.unsqueeze(0), target.unsqueeze(0))\n",
    "        # loss = criterion(output.unsqueeze(0), target.unsqueeze(0))\n",
    "        loss = criterion(prediction.unsqueeze(0), target)\n",
    "        epoch_loss += loss.item()\n",
    "        predicted_class = torch.argmax(prediction, dim=0)\n",
    "\n",
    "        # Backward pass and optimization\n",
    "        loss.backward()\n",
    "        optimizer.step()\n",
    "        # print(f\"Batch {batch_num}, Loss: {loss}, Output: {predicted_class}, Label: {target}\")\n",
    "        # batch_num += 1\n",
    "    print(f\"Epoch {epoch + 1}/{num_epochs}, Loss: {epoch_loss:.4f}\")\n",
    "    \n",
    "    # # Optional: Validation step\n",
    "    # model.eval()\n",
    "    # val_loss = 0.0\n",
    "    # with torch.no_grad():\n",
    "    #     for batch in val_loader:\n",
    "    #         node_features = batch.node_features.to(device)\n",
    "    #         network_features = batch.network_features.to(device)\n",
    "    #         edge_features = batch.edge_features.to(device)\n",
    "    #         edge_index = batch.edge_index.to(device)\n",
    "    #         targets = batch.targets.to(device)\n",
    "    #         predictions = model(node_features, network_features, edge_features, edge_index)\n",
    "    #         val_loss += criterion(predictions, targets).item()\n",
    "    # print(f\"Validation Loss: {val_loss:.4f}\")\n",
    "\n",
    "# Save the model\n",
    "# torch.save(model.state_dict(), \"brain_gnn_model.pth\")"
   ]
  },
  {
   "cell_type": "code",
   "execution_count": 19,
   "metadata": {},
   "outputs": [],
   "source": [
    "with torch.no_grad():\n",
    "    h_node = model.node_mlp(node_features)  # Node embeddings\n",
    "    h_network = model.network_mlp(network_features)\n",
    "    h_fused = h_node + h_network\n",
    "\n",
    "    row, col = edge_index\n",
    "    messages = torch.cat([h_fused[row], h_fused[col]], dim=-1)\n",
    "    h_messages = model.message_layer(messages)\n",
    "    embeddings = h_node + h_messages  # Final node embeddings"
   ]
  },
  {
   "cell_type": "code",
   "execution_count": 22,
   "metadata": {},
   "outputs": [
    {
     "data": {
      "text/plain": [
       "tensor([[-0.1179, -0.5957, -0.5841,  ..., -0.3794,  0.3671,  0.0172],\n",
       "        [-0.1179, -0.5957, -0.5841,  ..., -0.3794,  0.3671,  0.0172],\n",
       "        [-0.1179, -0.5957, -0.5841,  ..., -0.3794,  0.3671,  0.0172],\n",
       "        ...,\n",
       "        [ 0.3338, -0.3025, -0.5232,  ..., -0.0349, -0.1378,  0.5898],\n",
       "        [ 0.3338, -0.3025, -0.5232,  ..., -0.0349, -0.1378,  0.5898],\n",
       "        [ 0.3338, -0.3025, -0.5232,  ..., -0.0349, -0.1378,  0.5898]])"
      ]
     },
     "execution_count": 22,
     "metadata": {},
     "output_type": "execute_result"
    }
   ],
   "source": [
    "h_fused"
   ]
  },
  {
   "cell_type": "code",
   "execution_count": null,
   "metadata": {},
   "outputs": [],
   "source": []
  }
 ],
 "metadata": {
  "kernelspec": {
   "display_name": "base",
   "language": "python",
   "name": "python3"
  },
  "language_info": {
   "codemirror_mode": {
    "name": "ipython",
    "version": 3
   },
   "file_extension": ".py",
   "mimetype": "text/x-python",
   "name": "python",
   "nbconvert_exporter": "python",
   "pygments_lexer": "ipython3",
   "version": "3.9.4"
  }
 },
 "nbformat": 4,
 "nbformat_minor": 2
}
